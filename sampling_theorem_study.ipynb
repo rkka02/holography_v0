{
 "cells": [
  {
   "cell_type": "markdown",
   "metadata": {},
   "source": [
    "<h3 align='center'> Sampling Theorem </h3>\n",
    "<script type=\"text/x-mathjax-config\">\n",
    "\n",
    "MathJax.Hub.Config({\n",
    "\n",
    "  tex2jax: {inlineMath: [['$','$'], ['\\\\(','\\\\)']]}\n",
    "\n",
    "});\n",
    "</script>\n",
    "<script src='https://cdnjs.cloudflare.com/ajax/libs/mathjax/2.7.5/latest.js?config=TeX-MML-AM_CHTML' async></script>\n",
    "\n",
    "<h5> $$ ax+b $$ </h3>"
   ]
  },
  {
   "cell_type": "markdown",
   "metadata": {},
   "source": []
  },
  {
   "cell_type": "markdown",
   "metadata": {},
   "source": [
    "$$ f_s > 2B $$"
   ]
  },
  {
   "cell_type": "code",
   "execution_count": null,
   "metadata": {},
   "outputs": [],
   "source": []
  }
 ],
 "metadata": {
  "language_info": {
   "name": "python"
  }
 },
 "nbformat": 4,
 "nbformat_minor": 2
}
